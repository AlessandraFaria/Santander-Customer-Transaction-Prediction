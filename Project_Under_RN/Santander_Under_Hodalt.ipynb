{
 "cells": [
  {
   "cell_type": "markdown",
   "metadata": {
    "colab_type": "text",
    "id": "pUzL_sXey_4Q"
   },
   "source": [
    "<img src=\"img1.jpg\" align=”center”>\n",
    "<h1>Previsão de transações bancárias de 200.000 clientes Santander</h1> <br>\n",
    "Projeto criado por <b>Alessandra Faria Abreu</b> enquanto ouvia Banda Eva e tomava café <br>\n",
    "Desafio disponivel no <a href=\"https://www.kaggle.com/c/santander-customer-transaction-prediction\">Kaggle</a>"
   ]
  },
  {
   "cell_type": "markdown",
   "metadata": {},
   "source": [
    "<p>Importação das bibliotecas<p>"
   ]
  },
  {
   "cell_type": "code",
   "execution_count": 3,
   "metadata": {
    "colab": {},
    "colab_type": "code",
    "id": "-yCFiZnay_4S"
   },
   "outputs": [],
   "source": [
    "#permite que os gráficos gerados sejam mostrados na mesma janela\n",
    "%matplotlib inline \n",
    "import pandas as pd\n",
    "import matplotlib.pyplot as plt\n",
    "import seaborn as sns\n",
    "from sklearn import datasets, linear_model \n",
    "from sklearn.model_selection import train_test_split \n",
    "#import plotly.graph_objs as go\n",
    "#define o estilo dos gráficos , \"ggplot\" é um estilo popular em R\n",
    "plt.style.use('ggplot') "
   ]
  },
  {
   "cell_type": "markdown",
   "metadata": {},
   "source": [
    "<p>Leitura das bases<p>"
   ]
  },
  {
   "cell_type": "code",
   "execution_count": 4,
   "metadata": {
    "cellView": "both",
    "colab": {
     "base_uri": "https://localhost:8080/",
     "height": 864
    },
    "colab_type": "code",
    "executionInfo": {
     "elapsed": 797,
     "status": "error",
     "timestamp": 1551965038859,
     "user": {
      "displayName": "Alessandra Faria",
      "photoUrl": "https://lh5.googleusercontent.com/-l2wzPIHg0Pk/AAAAAAAAAAI/AAAAAAAACM0/RWRNA5moBMg/s64/photo.jpg",
      "userId": "18200841237099022086"
     },
     "user_tz": 180
    },
    "id": "DG5mLckOUty0",
    "outputId": "f1bfe704-3935-49c6-f9ed-c833d739de7c"
   },
   "outputs": [],
   "source": [
    "#@title Default title text\n",
    "#Realiza a leitura da base (csv) e carrega na mémoria\n",
    "transacoesTrain = pd.read_csv('train.csv')\n",
    "transacoesTest = pd.read_csv('test.csv')"
   ]
  },
  {
   "cell_type": "markdown",
   "metadata": {
    "colab_type": "text",
    "id": "p3UY7FpIy_4Y"
   },
   "source": [
    "<h1>Exploração das Bases</h1><br>\n",
    "<h2>Visualização da relação de dados da base Train - Dados</h2>"
   ]
  },
  {
   "cell_type": "code",
   "execution_count": 3,
   "metadata": {
    "colab": {},
    "colab_type": "code",
    "id": "lAlZ4mC8y_4Z",
    "scrolled": false
   },
   "outputs": [
    {
     "data": {
      "text/html": [
       "<div>\n",
       "<style scoped>\n",
       "    .dataframe tbody tr th:only-of-type {\n",
       "        vertical-align: middle;\n",
       "    }\n",
       "\n",
       "    .dataframe tbody tr th {\n",
       "        vertical-align: top;\n",
       "    }\n",
       "\n",
       "    .dataframe thead th {\n",
       "        text-align: right;\n",
       "    }\n",
       "</style>\n",
       "<table border=\"1\" class=\"dataframe\">\n",
       "  <thead>\n",
       "    <tr style=\"text-align: right;\">\n",
       "      <th></th>\n",
       "      <th>ID_code</th>\n",
       "      <th>target</th>\n",
       "      <th>var_0</th>\n",
       "      <th>var_1</th>\n",
       "      <th>var_2</th>\n",
       "      <th>var_3</th>\n",
       "      <th>var_4</th>\n",
       "      <th>var_5</th>\n",
       "      <th>var_6</th>\n",
       "      <th>var_7</th>\n",
       "      <th>...</th>\n",
       "      <th>var_190</th>\n",
       "      <th>var_191</th>\n",
       "      <th>var_192</th>\n",
       "      <th>var_193</th>\n",
       "      <th>var_194</th>\n",
       "      <th>var_195</th>\n",
       "      <th>var_196</th>\n",
       "      <th>var_197</th>\n",
       "      <th>var_198</th>\n",
       "      <th>var_199</th>\n",
       "    </tr>\n",
       "  </thead>\n",
       "  <tbody>\n",
       "    <tr>\n",
       "      <th>0</th>\n",
       "      <td>train_0</td>\n",
       "      <td>0</td>\n",
       "      <td>8.9255</td>\n",
       "      <td>-6.7863</td>\n",
       "      <td>11.9081</td>\n",
       "      <td>5.0930</td>\n",
       "      <td>11.4607</td>\n",
       "      <td>-9.2834</td>\n",
       "      <td>5.1187</td>\n",
       "      <td>18.6266</td>\n",
       "      <td>...</td>\n",
       "      <td>4.4354</td>\n",
       "      <td>3.9642</td>\n",
       "      <td>3.1364</td>\n",
       "      <td>1.6910</td>\n",
       "      <td>18.5227</td>\n",
       "      <td>-2.3978</td>\n",
       "      <td>7.8784</td>\n",
       "      <td>8.5635</td>\n",
       "      <td>12.7803</td>\n",
       "      <td>-1.0914</td>\n",
       "    </tr>\n",
       "    <tr>\n",
       "      <th>1</th>\n",
       "      <td>train_1</td>\n",
       "      <td>0</td>\n",
       "      <td>11.5006</td>\n",
       "      <td>-4.1473</td>\n",
       "      <td>13.8588</td>\n",
       "      <td>5.3890</td>\n",
       "      <td>12.3622</td>\n",
       "      <td>7.0433</td>\n",
       "      <td>5.6208</td>\n",
       "      <td>16.5338</td>\n",
       "      <td>...</td>\n",
       "      <td>7.6421</td>\n",
       "      <td>7.7214</td>\n",
       "      <td>2.5837</td>\n",
       "      <td>10.9516</td>\n",
       "      <td>15.4305</td>\n",
       "      <td>2.0339</td>\n",
       "      <td>8.1267</td>\n",
       "      <td>8.7889</td>\n",
       "      <td>18.3560</td>\n",
       "      <td>1.9518</td>\n",
       "    </tr>\n",
       "    <tr>\n",
       "      <th>2</th>\n",
       "      <td>train_2</td>\n",
       "      <td>0</td>\n",
       "      <td>8.6093</td>\n",
       "      <td>-2.7457</td>\n",
       "      <td>12.0805</td>\n",
       "      <td>7.8928</td>\n",
       "      <td>10.5825</td>\n",
       "      <td>-9.0837</td>\n",
       "      <td>6.9427</td>\n",
       "      <td>14.6155</td>\n",
       "      <td>...</td>\n",
       "      <td>2.9057</td>\n",
       "      <td>9.7905</td>\n",
       "      <td>1.6704</td>\n",
       "      <td>1.6858</td>\n",
       "      <td>21.6042</td>\n",
       "      <td>3.1417</td>\n",
       "      <td>-6.5213</td>\n",
       "      <td>8.2675</td>\n",
       "      <td>14.7222</td>\n",
       "      <td>0.3965</td>\n",
       "    </tr>\n",
       "    <tr>\n",
       "      <th>3</th>\n",
       "      <td>train_3</td>\n",
       "      <td>0</td>\n",
       "      <td>11.0604</td>\n",
       "      <td>-2.1518</td>\n",
       "      <td>8.9522</td>\n",
       "      <td>7.1957</td>\n",
       "      <td>12.5846</td>\n",
       "      <td>-1.8361</td>\n",
       "      <td>5.8428</td>\n",
       "      <td>14.9250</td>\n",
       "      <td>...</td>\n",
       "      <td>4.4666</td>\n",
       "      <td>4.7433</td>\n",
       "      <td>0.7178</td>\n",
       "      <td>1.4214</td>\n",
       "      <td>23.0347</td>\n",
       "      <td>-1.2706</td>\n",
       "      <td>-2.9275</td>\n",
       "      <td>10.2922</td>\n",
       "      <td>17.9697</td>\n",
       "      <td>-8.9996</td>\n",
       "    </tr>\n",
       "    <tr>\n",
       "      <th>4</th>\n",
       "      <td>train_4</td>\n",
       "      <td>0</td>\n",
       "      <td>9.8369</td>\n",
       "      <td>-1.4834</td>\n",
       "      <td>12.8746</td>\n",
       "      <td>6.6375</td>\n",
       "      <td>12.2772</td>\n",
       "      <td>2.4486</td>\n",
       "      <td>5.9405</td>\n",
       "      <td>19.2514</td>\n",
       "      <td>...</td>\n",
       "      <td>-1.4905</td>\n",
       "      <td>9.5214</td>\n",
       "      <td>-0.1508</td>\n",
       "      <td>9.1942</td>\n",
       "      <td>13.2876</td>\n",
       "      <td>-1.5121</td>\n",
       "      <td>3.9267</td>\n",
       "      <td>9.5031</td>\n",
       "      <td>17.9974</td>\n",
       "      <td>-8.8104</td>\n",
       "    </tr>\n",
       "  </tbody>\n",
       "</table>\n",
       "<p>5 rows × 202 columns</p>\n",
       "</div>"
      ],
      "text/plain": [
       "   ID_code  target    var_0   var_1    var_2   var_3    var_4   var_5   var_6  \\\n",
       "0  train_0       0   8.9255 -6.7863  11.9081  5.0930  11.4607 -9.2834  5.1187   \n",
       "1  train_1       0  11.5006 -4.1473  13.8588  5.3890  12.3622  7.0433  5.6208   \n",
       "2  train_2       0   8.6093 -2.7457  12.0805  7.8928  10.5825 -9.0837  6.9427   \n",
       "3  train_3       0  11.0604 -2.1518   8.9522  7.1957  12.5846 -1.8361  5.8428   \n",
       "4  train_4       0   9.8369 -1.4834  12.8746  6.6375  12.2772  2.4486  5.9405   \n",
       "\n",
       "     var_7   ...     var_190  var_191  var_192  var_193  var_194  var_195  \\\n",
       "0  18.6266   ...      4.4354   3.9642   3.1364   1.6910  18.5227  -2.3978   \n",
       "1  16.5338   ...      7.6421   7.7214   2.5837  10.9516  15.4305   2.0339   \n",
       "2  14.6155   ...      2.9057   9.7905   1.6704   1.6858  21.6042   3.1417   \n",
       "3  14.9250   ...      4.4666   4.7433   0.7178   1.4214  23.0347  -1.2706   \n",
       "4  19.2514   ...     -1.4905   9.5214  -0.1508   9.1942  13.2876  -1.5121   \n",
       "\n",
       "   var_196  var_197  var_198  var_199  \n",
       "0   7.8784   8.5635  12.7803  -1.0914  \n",
       "1   8.1267   8.7889  18.3560   1.9518  \n",
       "2  -6.5213   8.2675  14.7222   0.3965  \n",
       "3  -2.9275  10.2922  17.9697  -8.9996  \n",
       "4   3.9267   9.5031  17.9974  -8.8104  \n",
       "\n",
       "[5 rows x 202 columns]"
      ]
     },
     "execution_count": 3,
     "metadata": {},
     "output_type": "execute_result"
    }
   ],
   "source": [
    "#Visualizar os 5 primeiros registros da base\n",
    "transacoesTrain.head()"
   ]
  },
  {
   "cell_type": "code",
   "execution_count": 4,
   "metadata": {
    "colab": {},
    "colab_type": "code",
    "id": "v-tjV3Qfy_4e"
   },
   "outputs": [
    {
     "data": {
      "text/html": [
       "<div>\n",
       "<style scoped>\n",
       "    .dataframe tbody tr th:only-of-type {\n",
       "        vertical-align: middle;\n",
       "    }\n",
       "\n",
       "    .dataframe tbody tr th {\n",
       "        vertical-align: top;\n",
       "    }\n",
       "\n",
       "    .dataframe thead th {\n",
       "        text-align: right;\n",
       "    }\n",
       "</style>\n",
       "<table border=\"1\" class=\"dataframe\">\n",
       "  <thead>\n",
       "    <tr style=\"text-align: right;\">\n",
       "      <th></th>\n",
       "      <th>target</th>\n",
       "      <th>var_0</th>\n",
       "      <th>var_1</th>\n",
       "      <th>var_2</th>\n",
       "      <th>var_3</th>\n",
       "      <th>var_4</th>\n",
       "      <th>var_5</th>\n",
       "      <th>var_6</th>\n",
       "      <th>var_7</th>\n",
       "      <th>var_8</th>\n",
       "      <th>...</th>\n",
       "      <th>var_190</th>\n",
       "      <th>var_191</th>\n",
       "      <th>var_192</th>\n",
       "      <th>var_193</th>\n",
       "      <th>var_194</th>\n",
       "      <th>var_195</th>\n",
       "      <th>var_196</th>\n",
       "      <th>var_197</th>\n",
       "      <th>var_198</th>\n",
       "      <th>var_199</th>\n",
       "    </tr>\n",
       "  </thead>\n",
       "  <tbody>\n",
       "    <tr>\n",
       "      <th>count</th>\n",
       "      <td>200000.000000</td>\n",
       "      <td>200000.000000</td>\n",
       "      <td>200000.000000</td>\n",
       "      <td>200000.000000</td>\n",
       "      <td>200000.000000</td>\n",
       "      <td>200000.000000</td>\n",
       "      <td>200000.000000</td>\n",
       "      <td>200000.000000</td>\n",
       "      <td>200000.000000</td>\n",
       "      <td>200000.000000</td>\n",
       "      <td>...</td>\n",
       "      <td>200000.000000</td>\n",
       "      <td>200000.000000</td>\n",
       "      <td>200000.000000</td>\n",
       "      <td>200000.000000</td>\n",
       "      <td>200000.000000</td>\n",
       "      <td>200000.000000</td>\n",
       "      <td>200000.000000</td>\n",
       "      <td>200000.000000</td>\n",
       "      <td>200000.000000</td>\n",
       "      <td>200000.000000</td>\n",
       "    </tr>\n",
       "    <tr>\n",
       "      <th>mean</th>\n",
       "      <td>0.100490</td>\n",
       "      <td>10.679914</td>\n",
       "      <td>-1.627622</td>\n",
       "      <td>10.715192</td>\n",
       "      <td>6.796529</td>\n",
       "      <td>11.078333</td>\n",
       "      <td>-5.065317</td>\n",
       "      <td>5.408949</td>\n",
       "      <td>16.545850</td>\n",
       "      <td>0.284162</td>\n",
       "      <td>...</td>\n",
       "      <td>3.234440</td>\n",
       "      <td>7.438408</td>\n",
       "      <td>1.927839</td>\n",
       "      <td>3.331774</td>\n",
       "      <td>17.993784</td>\n",
       "      <td>-0.142088</td>\n",
       "      <td>2.303335</td>\n",
       "      <td>8.908158</td>\n",
       "      <td>15.870720</td>\n",
       "      <td>-3.326537</td>\n",
       "    </tr>\n",
       "    <tr>\n",
       "      <th>std</th>\n",
       "      <td>0.300653</td>\n",
       "      <td>3.040051</td>\n",
       "      <td>4.050044</td>\n",
       "      <td>2.640894</td>\n",
       "      <td>2.043319</td>\n",
       "      <td>1.623150</td>\n",
       "      <td>7.863267</td>\n",
       "      <td>0.866607</td>\n",
       "      <td>3.418076</td>\n",
       "      <td>3.332634</td>\n",
       "      <td>...</td>\n",
       "      <td>4.559922</td>\n",
       "      <td>3.023272</td>\n",
       "      <td>1.478423</td>\n",
       "      <td>3.992030</td>\n",
       "      <td>3.135162</td>\n",
       "      <td>1.429372</td>\n",
       "      <td>5.454369</td>\n",
       "      <td>0.921625</td>\n",
       "      <td>3.010945</td>\n",
       "      <td>10.438015</td>\n",
       "    </tr>\n",
       "    <tr>\n",
       "      <th>min</th>\n",
       "      <td>0.000000</td>\n",
       "      <td>0.408400</td>\n",
       "      <td>-15.043400</td>\n",
       "      <td>2.117100</td>\n",
       "      <td>-0.040200</td>\n",
       "      <td>5.074800</td>\n",
       "      <td>-32.562600</td>\n",
       "      <td>2.347300</td>\n",
       "      <td>5.349700</td>\n",
       "      <td>-10.505500</td>\n",
       "      <td>...</td>\n",
       "      <td>-14.093300</td>\n",
       "      <td>-2.691700</td>\n",
       "      <td>-3.814500</td>\n",
       "      <td>-11.783400</td>\n",
       "      <td>8.694400</td>\n",
       "      <td>-5.261000</td>\n",
       "      <td>-14.209600</td>\n",
       "      <td>5.960600</td>\n",
       "      <td>6.299300</td>\n",
       "      <td>-38.852800</td>\n",
       "    </tr>\n",
       "    <tr>\n",
       "      <th>25%</th>\n",
       "      <td>0.000000</td>\n",
       "      <td>8.453850</td>\n",
       "      <td>-4.740025</td>\n",
       "      <td>8.722475</td>\n",
       "      <td>5.254075</td>\n",
       "      <td>9.883175</td>\n",
       "      <td>-11.200350</td>\n",
       "      <td>4.767700</td>\n",
       "      <td>13.943800</td>\n",
       "      <td>-2.317800</td>\n",
       "      <td>...</td>\n",
       "      <td>-0.058825</td>\n",
       "      <td>5.157400</td>\n",
       "      <td>0.889775</td>\n",
       "      <td>0.584600</td>\n",
       "      <td>15.629800</td>\n",
       "      <td>-1.170700</td>\n",
       "      <td>-1.946925</td>\n",
       "      <td>8.252800</td>\n",
       "      <td>13.829700</td>\n",
       "      <td>-11.208475</td>\n",
       "    </tr>\n",
       "    <tr>\n",
       "      <th>50%</th>\n",
       "      <td>0.000000</td>\n",
       "      <td>10.524750</td>\n",
       "      <td>-1.608050</td>\n",
       "      <td>10.580000</td>\n",
       "      <td>6.825000</td>\n",
       "      <td>11.108250</td>\n",
       "      <td>-4.833150</td>\n",
       "      <td>5.385100</td>\n",
       "      <td>16.456800</td>\n",
       "      <td>0.393700</td>\n",
       "      <td>...</td>\n",
       "      <td>3.203600</td>\n",
       "      <td>7.347750</td>\n",
       "      <td>1.901300</td>\n",
       "      <td>3.396350</td>\n",
       "      <td>17.957950</td>\n",
       "      <td>-0.172700</td>\n",
       "      <td>2.408900</td>\n",
       "      <td>8.888200</td>\n",
       "      <td>15.934050</td>\n",
       "      <td>-2.819550</td>\n",
       "    </tr>\n",
       "    <tr>\n",
       "      <th>75%</th>\n",
       "      <td>0.000000</td>\n",
       "      <td>12.758200</td>\n",
       "      <td>1.358625</td>\n",
       "      <td>12.516700</td>\n",
       "      <td>8.324100</td>\n",
       "      <td>12.261125</td>\n",
       "      <td>0.924800</td>\n",
       "      <td>6.003000</td>\n",
       "      <td>19.102900</td>\n",
       "      <td>2.937900</td>\n",
       "      <td>...</td>\n",
       "      <td>6.406200</td>\n",
       "      <td>9.512525</td>\n",
       "      <td>2.949500</td>\n",
       "      <td>6.205800</td>\n",
       "      <td>20.396525</td>\n",
       "      <td>0.829600</td>\n",
       "      <td>6.556725</td>\n",
       "      <td>9.593300</td>\n",
       "      <td>18.064725</td>\n",
       "      <td>4.836800</td>\n",
       "    </tr>\n",
       "    <tr>\n",
       "      <th>max</th>\n",
       "      <td>1.000000</td>\n",
       "      <td>20.315000</td>\n",
       "      <td>10.376800</td>\n",
       "      <td>19.353000</td>\n",
       "      <td>13.188300</td>\n",
       "      <td>16.671400</td>\n",
       "      <td>17.251600</td>\n",
       "      <td>8.447700</td>\n",
       "      <td>27.691800</td>\n",
       "      <td>10.151300</td>\n",
       "      <td>...</td>\n",
       "      <td>18.440900</td>\n",
       "      <td>16.716500</td>\n",
       "      <td>8.402400</td>\n",
       "      <td>18.281800</td>\n",
       "      <td>27.928800</td>\n",
       "      <td>4.272900</td>\n",
       "      <td>18.321500</td>\n",
       "      <td>12.000400</td>\n",
       "      <td>26.079100</td>\n",
       "      <td>28.500700</td>\n",
       "    </tr>\n",
       "  </tbody>\n",
       "</table>\n",
       "<p>8 rows × 201 columns</p>\n",
       "</div>"
      ],
      "text/plain": [
       "              target          var_0          var_1          var_2  \\\n",
       "count  200000.000000  200000.000000  200000.000000  200000.000000   \n",
       "mean        0.100490      10.679914      -1.627622      10.715192   \n",
       "std         0.300653       3.040051       4.050044       2.640894   \n",
       "min         0.000000       0.408400     -15.043400       2.117100   \n",
       "25%         0.000000       8.453850      -4.740025       8.722475   \n",
       "50%         0.000000      10.524750      -1.608050      10.580000   \n",
       "75%         0.000000      12.758200       1.358625      12.516700   \n",
       "max         1.000000      20.315000      10.376800      19.353000   \n",
       "\n",
       "               var_3          var_4          var_5          var_6  \\\n",
       "count  200000.000000  200000.000000  200000.000000  200000.000000   \n",
       "mean        6.796529      11.078333      -5.065317       5.408949   \n",
       "std         2.043319       1.623150       7.863267       0.866607   \n",
       "min        -0.040200       5.074800     -32.562600       2.347300   \n",
       "25%         5.254075       9.883175     -11.200350       4.767700   \n",
       "50%         6.825000      11.108250      -4.833150       5.385100   \n",
       "75%         8.324100      12.261125       0.924800       6.003000   \n",
       "max        13.188300      16.671400      17.251600       8.447700   \n",
       "\n",
       "               var_7          var_8      ...              var_190  \\\n",
       "count  200000.000000  200000.000000      ...        200000.000000   \n",
       "mean       16.545850       0.284162      ...             3.234440   \n",
       "std         3.418076       3.332634      ...             4.559922   \n",
       "min         5.349700     -10.505500      ...           -14.093300   \n",
       "25%        13.943800      -2.317800      ...            -0.058825   \n",
       "50%        16.456800       0.393700      ...             3.203600   \n",
       "75%        19.102900       2.937900      ...             6.406200   \n",
       "max        27.691800      10.151300      ...            18.440900   \n",
       "\n",
       "             var_191        var_192        var_193        var_194  \\\n",
       "count  200000.000000  200000.000000  200000.000000  200000.000000   \n",
       "mean        7.438408       1.927839       3.331774      17.993784   \n",
       "std         3.023272       1.478423       3.992030       3.135162   \n",
       "min        -2.691700      -3.814500     -11.783400       8.694400   \n",
       "25%         5.157400       0.889775       0.584600      15.629800   \n",
       "50%         7.347750       1.901300       3.396350      17.957950   \n",
       "75%         9.512525       2.949500       6.205800      20.396525   \n",
       "max        16.716500       8.402400      18.281800      27.928800   \n",
       "\n",
       "             var_195        var_196        var_197        var_198  \\\n",
       "count  200000.000000  200000.000000  200000.000000  200000.000000   \n",
       "mean       -0.142088       2.303335       8.908158      15.870720   \n",
       "std         1.429372       5.454369       0.921625       3.010945   \n",
       "min        -5.261000     -14.209600       5.960600       6.299300   \n",
       "25%        -1.170700      -1.946925       8.252800      13.829700   \n",
       "50%        -0.172700       2.408900       8.888200      15.934050   \n",
       "75%         0.829600       6.556725       9.593300      18.064725   \n",
       "max         4.272900      18.321500      12.000400      26.079100   \n",
       "\n",
       "             var_199  \n",
       "count  200000.000000  \n",
       "mean       -3.326537  \n",
       "std        10.438015  \n",
       "min       -38.852800  \n",
       "25%       -11.208475  \n",
       "50%        -2.819550  \n",
       "75%         4.836800  \n",
       "max        28.500700  \n",
       "\n",
       "[8 rows x 201 columns]"
      ]
     },
     "execution_count": 4,
     "metadata": {},
     "output_type": "execute_result"
    }
   ],
   "source": [
    "#Resumo dos dados registrados na Base\n",
    "transacoesTrain.describe()"
   ]
  },
  {
   "cell_type": "code",
   "execution_count": 5,
   "metadata": {
    "colab": {},
    "colab_type": "code",
    "id": "lNC8RI1Oy_4i"
   },
   "outputs": [
    {
     "data": {
      "text/plain": [
       "ID_code     object\n",
       "target       int64\n",
       "var_0      float64\n",
       "var_1      float64\n",
       "var_2      float64\n",
       "dtype: object"
      ]
     },
     "execution_count": 5,
     "metadata": {},
     "output_type": "execute_result"
    }
   ],
   "source": [
    "#Tipo de dado por coluna - para verificar se são todos numericos\n",
    "transacoesTrain.dtypes.head()"
   ]
  },
  {
   "cell_type": "code",
   "execution_count": 6,
   "metadata": {
    "colab": {},
    "colab_type": "code",
    "id": "0pIj2v7_y_4m"
   },
   "outputs": [
    {
     "data": {
      "text/plain": [
       "(200000, 202)"
      ]
     },
     "execution_count": 6,
     "metadata": {},
     "output_type": "execute_result"
    }
   ],
   "source": [
    "#Quantidade de linhas e colunas\n",
    "transacoesTrain.shape"
   ]
  },
  {
   "cell_type": "code",
   "execution_count": 7,
   "metadata": {
    "colab": {},
    "colab_type": "code",
    "id": "IFDbq8e2y_4p"
   },
   "outputs": [
    {
     "data": {
      "text/plain": [
       "False"
      ]
     },
     "execution_count": 7,
     "metadata": {},
     "output_type": "execute_result"
    }
   ],
   "source": [
    "#Verifica se tem valores nulos Train\n",
    "transacoesTrain.isnull().any().any()"
   ]
  },
  {
   "cell_type": "code",
   "execution_count": 8,
   "metadata": {
    "colab": {},
    "colab_type": "code",
    "id": "QhUPrwdey_4u"
   },
   "outputs": [
    {
     "data": {
      "text/plain": [
       "False"
      ]
     },
     "execution_count": 8,
     "metadata": {},
     "output_type": "execute_result"
    }
   ],
   "source": [
    "#Verifica se tem valores nulos Test\n",
    "transacoesTest.isnull().any().any()"
   ]
  },
  {
   "cell_type": "markdown",
   "metadata": {
    "colab_type": "text",
    "id": "CjC0LKdfy_4z"
   },
   "source": [
    "<h2>Visualização das Bases - Gráficos</h2>"
   ]
  },
  {
   "cell_type": "code",
   "execution_count": 12,
   "metadata": {
    "colab": {},
    "colab_type": "code",
    "id": "Ef7lKVMgy_46",
    "scrolled": false
   },
   "outputs": [
    {
     "data": {
      "image/png": "[encoded data removed]",
      "text/plain": [
       "<Figure size 1152x432 with 1 Axes>"
      ]
     },
     "metadata": {},
     "output_type": "display_data"
    }
   ],
   "source": [
    "#Distribuição dos valores médios - comparativo LINHA\n",
    "plt.figure(figsize=(16,6))\n",
    "features = transacoesTrain.columns.values[2:202]\n",
    "plt.title(\"Distribuição dos valores médios por linha na base Train e na base Test\")\n",
    "sns.distplot(transacoesTrain[features].mean(axis=1),color=\"black\", kde=True,bins=120, label='Train')\n",
    "sns.distplot(transacoesTest[features].mean(axis=1),color=\"red\", kde=True,bins=120, label='Test')\n",
    "plt.legend()\n",
    "plt.show()"
   ]
  },
  {
   "cell_type": "code",
   "execution_count": 13,
   "metadata": {
    "colab": {},
    "colab_type": "code",
    "id": "rLa43Laqy_49"
   },
   "outputs": [
    {
     "data": {
      "image/png": "[encoded data removed]",
      "text/plain": [
       "<Figure size 1152x432 with 1 Axes>"
      ]
     },
     "metadata": {},
     "output_type": "display_data"
    }
   ],
   "source": [
    "plt.figure(figsize=(16,6))\n",
    "plt.title(\"Distribuição dos valores médios por coluna na base Train e na base Test\")\n",
    "sns.distplot(transacoesTrain[features].mean(axis=0),color=\"black\",kde=True,bins=120, label='Train')\n",
    "sns.distplot(transacoesTest[features].mean(axis=0),color=\"red\", kde=True,bins=120, label='Test')\n",
    "plt.legend()\n",
    "plt.show()"
   ]
  },
  {
   "cell_type": "code",
   "execution_count": 14,
   "metadata": {
    "colab": {},
    "colab_type": "code",
    "id": "tqddA9kiy_5A"
   },
   "outputs": [
    {
     "data": {
      "image/png": "[encoded data removed]",
      "text/plain": [
       "<Figure size 1152x432 with 1 Axes>"
      ]
     },
     "metadata": {},
     "output_type": "display_data"
    }
   ],
   "source": [
    "#Distribuição dos valores std - comparativo LINHA\n",
    "plt.figure(figsize=(16,6))\n",
    "features = transacoesTrain.columns.values[2:202]\n",
    "plt.title(\"Distribuição dos valores STD por linha na base Train e na base Test\")\n",
    "sns.distplot(transacoesTrain[features].std(axis=1),color=\"black\", kde=True,bins=120, label='Train')\n",
    "sns.distplot(transacoesTest[features].std(axis=1),color=\"red\", kde=True,bins=120, label='Test')\n",
    "plt.legend()\n",
    "plt.show()"
   ]
  },
  {
   "cell_type": "code",
   "execution_count": 15,
   "metadata": {
    "colab": {},
    "colab_type": "code",
    "id": "sPgEwYdXy_5E"
   },
   "outputs": [
    {
     "data": {
      "image/png": "[encoded data removed]",
      "text/plain": [
       "<Figure size 1152x432 with 1 Axes>"
      ]
     },
     "metadata": {},
     "output_type": "display_data"
    }
   ],
   "source": [
    "plt.figure(figsize=(16,6))\n",
    "plt.title(\"Distribuição dos valores STD por coluna na base Train e na base Test\")\n",
    "sns.distplot(transacoesTrain[features].std(axis=0),color=\"black\",kde=True,bins=120, label='train')\n",
    "sns.distplot(transacoesTest[features].std(axis=0),color=\"red\", kde=True,bins=120, label='test')\n",
    "plt.legend(); plt.show()"
   ]
  },
  {
   "cell_type": "markdown",
   "metadata": {},
   "source": [
    "<p>Visualizações sobre o balanceamento da base<p>"
   ]
  },
  {
   "cell_type": "code",
   "execution_count": 9,
   "metadata": {
    "colab": {},
    "colab_type": "code",
    "id": "Xq4y6qA_y_40",
    "scrolled": true
   },
   "outputs": [
    {
     "data": {
      "text/plain": [
       "<matplotlib.axes._subplots.AxesSubplot at 0x25180833fd0>"
      ]
     },
     "execution_count": 9,
     "metadata": {},
     "output_type": "execute_result"
    },
    {
     "data": {
      "image/png": "[encoded data removed]",
      "text/plain": [
       "<Figure size 432x288 with 1 Axes>"
      ]
     },
     "metadata": {
      "needs_background": "light"
     },
     "output_type": "display_data"
    }
   ],
   "source": [
    "sns.countplot(transacoesTrain['target'])"
   ]
  },
  {
   "cell_type": "code",
   "execution_count": 10,
   "metadata": {},
   "outputs": [
    {
     "name": "stderr",
     "output_type": "stream",
     "text": [
      "C:\\Users\\Alessandra Faria\\Anaconda3\\lib\\site-packages\\scipy\\stats\\stats.py:1713: FutureWarning: Using a non-tuple sequence for multidimensional indexing is deprecated; use `arr[tuple(seq)]` instead of `arr[seq]`. In the future this will be interpreted as an array index, `arr[np.array(seq)]`, which will result either in an error or a different result.\n",
      "  return np.add.reduce(sorted[indexer] * weights, axis=axis) / sumval\n"
     ]
    },
    {
     "data": {
      "image/png": "[encoded data removed]",
      "text/plain": [
       "<Figure size 648x504 with 1 Axes>"
      ]
     },
     "metadata": {},
     "output_type": "display_data"
    }
   ],
   "source": [
    "#Mostra que o target é desbalanceado\n",
    "sns.set(rc={'figure.figsize':(9,7)})\n",
    "sns.distplot(transacoesTrain['target']);"
   ]
  },
  {
   "cell_type": "markdown",
   "metadata": {},
   "source": [
    "<h1>Reamostragem</h1>"
   ]
  },
  {
   "cell_type": "markdown",
   "metadata": {},
   "source": [
    "<p>Como visto nos gráficos acima o modelo esta desbalanceado</p></br>\n",
    "<p>Realizei a validação sem balancear e os resultados  foram inaceitaveis como mostra o gráfico da Matriz de confusão a seguir :</p>"
   ]
  },
  {
   "cell_type": "code",
   "execution_count": 16,
   "metadata": {},
   "outputs": [
    {
     "name": "stdout",
     "output_type": "stream",
     "text": [
      "Confusion matrix:\n",
      " [[53959     0]\n",
      " [ 6041     0]]\n"
     ]
    },
    {
     "data": {
      "image/png": "[encoded data removed]",
      "text/plain": [
       "<Figure size 432x288 with 2 Axes>"
      ]
     },
     "metadata": {
      "needs_background": "light"
     },
     "output_type": "display_data"
    }
   ],
   "source": [
    "conf_mat = confusion_matrix(y_true=y_test, y_pred=y_pred)\n",
    "print('Confusion matrix:\\n', conf_mat)\n",
    "\n",
    "labels = ['Class 0', 'Class 1']\n",
    "fig = plt.figure()\n",
    "ax = fig.add_subplot(111)\n",
    "cax = ax.matshow(conf_mat, cmap=plt.cm.Blues)\n",
    "fig.colorbar(cax)\n",
    "ax.set_xticklabels([''] + labels)\n",
    "ax.set_yticklabels([''] + labels)\n",
    "plt.xlabel('Predicted')\n",
    "plt.ylabel('Expected')\n",
    "plt.show()"
   ]
  },
  {
   "cell_type": "markdown",
   "metadata": {},
   "source": [
    "<p>Agora que mostrado o impacto do desbalancemanto irei realizar a reamostragem que pode ser feita de duas formas :</p>\n",
    "<img src=\"img/resampling.png\" align=”center”>"
   ]
  },
  {
   "cell_type": "markdown",
   "metadata": {},
   "source": [
    "<p>As duas formas possuem desvantagens</p>\n",
    "<li>Duplicar registros aleatórios da classe minoritária pode causar superajuste</li>\n",
    "<li>A remoção de registros aleatórios da classe majoritária pode causar perda de informações.</li>\n",
    "<p>Recebi muitos concelhos sobre qual técnica aplicar nesta base e fiquei num dilema pois já são 200k registros diminuir parece lógico contudo posso perder dados importantes ,que para mim é mais importante </p></br>\n",
    "<p>Obtive melhores resultados via Under </p>"
   ]
  },
  {
   "cell_type": "markdown",
   "metadata": {},
   "source": [
    "<h2>Reamostragem por Undersampling</h2>"
   ]
  },
  {
   "cell_type": "code",
   "execution_count": 14,
   "metadata": {},
   "outputs": [],
   "source": [
    "# Iremos dividir a base em target 1 e target 0\n",
    "count_class_0, count_class_1 = transacoesTrain.target.value_counts()\n",
    "\n",
    "# Divide\n",
    "df_class_0 = transacoesTrain[transacoesTrain['target'] == 0]\n",
    "df_class_1 = transacoesTrain[transacoesTrain['target'] == 1]\n"
   ]
  },
  {
   "cell_type": "code",
   "execution_count": 8,
   "metadata": {},
   "outputs": [
    {
     "name": "stdout",
     "output_type": "stream",
     "text": [
      "Random under-sampling:\n",
      "1    20098\n",
      "0    20098\n",
      "Name: target, dtype: int64\n"
     ]
    },
    {
     "data": {
      "image/png": "[encoded data removed]",
      "text/plain": [
       "<Figure size 432x288 with 1 Axes>"
      ]
     },
     "metadata": {
      "needs_background": "light"
     },
     "output_type": "display_data"
    }
   ],
   "source": [
    "df_class_0_under = df_class_0.sample(count_class_1)\n",
    "df_base_train_balanceada_under = pd.concat([df_class_0_under, df_class_1], axis=0)\n",
    "\n",
    "print('Random under-sampling:')\n",
    "print(df_base_train_balanceada_under.target.value_counts())\n",
    "\n",
    "df_base_train_balanceada_under.target.value_counts().plot(kind='bar', title='Count (target)');"
   ]
  },
  {
   "cell_type": "code",
   "execution_count": 9,
   "metadata": {},
   "outputs": [
    {
     "data": {
      "text/plain": [
       "(40196, 202)"
      ]
     },
     "execution_count": 9,
     "metadata": {},
     "output_type": "execute_result"
    }
   ],
   "source": [
    "#Quantidade final de registros\n",
    "df_base_train_balanceada_under.shape"
   ]
  },
  {
   "cell_type": "markdown",
   "metadata": {},
   "source": [
    "<h1>MODELOS</h1>"
   ]
  },
  {
   "cell_type": "markdown",
   "metadata": {},
   "source": [
    "<h2>Under + Holdout + Rede Neural</h2>"
   ]
  },
  {
   "cell_type": "code",
   "execution_count": 20,
   "metadata": {},
   "outputs": [],
   "source": [
    "#HOLDOUT\n",
    "from sklearn.model_selection import train_test_split\n",
    "#Eliminado o que não sera usado\n",
    "a_under = df_base_train_balanceada_under.drop(['target'], axis=1)\n",
    "a_under =a_under.drop(['ID_code'], axis=1)\n",
    "# 70% Train and 30% Test\n",
    "X_train_under, X_test_under, y_train_under, y_test_under = train_test_split(a_under, df_base_train_balanceada_under['target'], test_size=0.3)"
   ]
  },
  {
   "cell_type": "markdown",
   "metadata": {},
   "source": [
    "<h2>REDES NEURAIS</h2>"
   ]
  },
  {
   "cell_type": "code",
   "execution_count": null,
   "metadata": {},
   "outputs": [],
   "source": [
    "#numpy, dependência para trabalharmos com matriz e facilitar o trabalho árduo a ser feito rsrsrs...\n",
    "import numpy as np\n",
    "\n",
    "class Rede_Neural():\n",
    "    \n",
    "    def __init__(self):\n",
    "        #Essa parte define o modelo da nossa rede neural ilustrada logo acima.\n",
    "        self.n_entradas = 200\n",
    "        self.n_camadas = 20\n",
    "        self.n_saidas = 2\n",
    "        #Taxa de aprendizagem, velocidade na qual a descida gradiente acontece.\n",
    "        self.tr = 0.7\n",
    "        \n",
    "        #Matriz de pesos que conectam todos os nossos neurônios através dos links.\n",
    "        self.w_1 = np.random.rand(self.n_camadas, self.n_entradas) - 0.5\n",
    "        self.w_2 = np.random.rand(self.n_saidas, self.n_camadas) - 0.5\n",
    "        \n",
    "        #Bias, polarização que tem o efeito de aumentar ou diminuir o argumento da função de ativação.\n",
    "        self.bias_h = np.random.rand(self.n_camadas, 1) - 0.5\n",
    "        self.bias_o = np.random.rand(self.n_saidas, 1) - 0.5\n",
    "    \n",
    "        #Função de ativação sigmoide.\n",
    "        self.sig = lambda x: 1/(1+np.exp(-x))\n",
    "        #Derivada da função sigmoide.\n",
    "        self.dsig = lambda y: y*(1.0-y)\n",
    "    \n",
    "    #Backpropagation é um método usado para treinar redes neurais profundas.\n",
    "    def backpropagation(self, x_tr, y_alvo):\n",
    "        #Convertendo a entrada para matriz 2d.\n",
    "        x = np.array(x_tr, ndmin=2).T\n",
    "        \n",
    "        #Calculando a saída dos neurônios da camada oculta.\n",
    "        saida_oculta = self.sig(np.add((np.dot(self.w_1, x)), self.bias_h))\n",
    "        #Calculando a saída final da rede neural.\n",
    "        saida_final = self.sig(np.add((np.dot(self.w_2, saida_oculta)), self.bias_o))\n",
    "        \n",
    "        #Calculando o erro(A diferença entre a saída alvo e a saída final).\n",
    "        erro = y_alvo - saida_final\n",
    "        if (i % 5000) == 0:\n",
    "            print('Erro:', erro)\n",
    "        \n",
    "        #Calculando o erro da camada oculta.\n",
    "        erro_oculto = np.dot(self.w_2.T, erro)\n",
    "        \n",
    "        #Ajustando os pesos pelo delta, com o gradiente da curva sigmoide.\n",
    "        self.w_2 += self.tr*(np.dot((erro*(self.dsig(saida_final))), np.transpose(saida_oculta)))\n",
    "        #Ajustando o bias pelo delta, com o gradiente da curva sigmoide(apenas o gradiente).\n",
    "        self.bias_o += self.tr*(erro*(self.dsig(saida_final)))\n",
    "        \n",
    "        #Ajustando os pesos pelo delta, com o gradiente da curva sigmoide.\n",
    "        self.w_1 += self.tr*(np.dot((erro_oculto*(self.dsig(saida_oculta))), np.transpose(x)))\n",
    "        #Ajustando o bias pelo delta, com o gradiente da curva sigmoide(apenas o gradiente).\n",
    "        self.bias_h += self.tr*(erro_oculto*(self.dsig(saida_oculta)))\n",
    "        \n",
    "    #Testando o quão bem a nossa rede neural foi treinada, com nossos dados de treinamento.\n",
    "    def consultar(self, x_con):\n",
    "        #Converter a entradas para a matriz 2d.\n",
    "        x = np.array(x_con, ndmin=2).T\n",
    "        \n",
    "        #Calculando a saída dos neurônios da camada oculta.\n",
    "        saida_oculta = self.sig(np.add((np.dot(self.w_1, x)), self.bias_h))\n",
    "        #Calculando a saída final da rede neural.\n",
    "        saida_final = self.sig(np.add((np.dot(self.w_2, saida_oculta)), self.bias_o))\n",
    "        \n",
    "        return print(saida_final)"
   ]
  },
  {
   "cell_type": "code",
   "execution_count": null,
   "metadata": {},
   "outputs": [],
   "source": [
    "rn = Rede_Neural()"
   ]
  },
  {
   "cell_type": "code",
   "execution_count": null,
   "metadata": {},
   "outputs": [],
   "source": [
    "#Dados xor, usados para treinar a rede neural.\n",
    "x_treinamento = np.array(X_train_under)\n",
    "x_treinamento"
   ]
  },
  {
   "cell_type": "code",
   "execution_count": null,
   "metadata": {},
   "outputs": [],
   "source": [
    "#Nossos alvos, usados para obter o erro da nossa rede neural.\n",
    "y_alvos= np.array(y_train_under)\n",
    "y_alvos"
   ]
  },
  {
   "cell_type": "code",
   "execution_count": null,
   "metadata": {},
   "outputs": [],
   "source": [
    "#Fazendo 15000 interações para pequenos ajustes.\n",
    "for i in range(100):\n",
    "    #Fornecendo nossos dados de entrada, um de cada vez. Ex: x:[1,1] / y:[0]\n",
    "    for x_tr,y_alvo in zip(x_treinamento, y_alvos):\n",
    "        rn.backpropagation(x_tr, y_alvo)"
   ]
  },
  {
   "cell_type": "markdown",
   "metadata": {},
   "source": [
    "<h2>Testando nossa rede neural.</h2>"
   ]
  },
  {
   "cell_type": "code",
   "execution_count": null,
   "metadata": {},
   "outputs": [],
   "source": [
    "x_dados= np.array(X_test_under)"
   ]
  },
  {
   "cell_type": "code",
   "execution_count": null,
   "metadata": {},
   "outputs": [],
   "source": [
    "for x_con in x_dados:\n",
    "    rn.consultar(x_con)"
   ]
  },
  {
   "cell_type": "markdown",
   "metadata": {},
   "source": [
    "<h1>Métricas</h1>"
   ]
  },
  {
   "cell_type": "markdown",
   "metadata": {},
   "source": [
    "<h2>Métricas Under + Holdout + Modelo Randon Forest </h2>"
   ]
  },
  {
   "cell_type": "code",
   "execution_count": 53,
   "metadata": {},
   "outputs": [
    {
     "data": {
      "text/plain": [
       "((28137, 200), (28137,), (12059, 200), (12059,), (12059,))"
      ]
     },
     "execution_count": 53,
     "metadata": {},
     "output_type": "execute_result"
    }
   ],
   "source": [
    "X_train_under.shape, y_train_under.shape ,X_test_under.shape, y_test_under.shape ,y_pred_under.shape"
   ]
  },
  {
   "cell_type": "markdown",
   "metadata": {},
   "source": [
    "<p>ACURACIA:o quanto a arvore bateu </p>"
   ]
  },
  {
   "cell_type": "code",
   "execution_count": 54,
   "metadata": {},
   "outputs": [
    {
     "data": {
      "text/plain": [
       "0.7760179119329961"
      ]
     },
     "execution_count": 54,
     "metadata": {},
     "output_type": "execute_result"
    }
   ],
   "source": [
    "#Importar o módulo de métricas scikit-learn para o cálculo de precisão\n",
    "from sklearn import metrics\n",
    "# Acuracy\n",
    "metrics.accuracy_score(y_test_under, y_pred_under)"
   ]
  },
  {
   "cell_type": "markdown",
   "metadata": {},
   "source": [
    "<p>SCORE Para saber quão bem o modelo irá generalizar ou seja, ela serve para saber se o modelo será efetivo ao receber um dado que ele nunca viu na vida</p>"
   ]
  },
  {
   "cell_type": "code",
   "execution_count": 26,
   "metadata": {},
   "outputs": [
    {
     "data": {
      "text/plain": [
       "1.0"
      ]
     },
     "execution_count": 26,
     "metadata": {},
     "output_type": "execute_result"
    }
   ],
   "source": [
    "clf_under.score(X_train_under, y_train_under)"
   ]
  },
  {
   "cell_type": "markdown",
   "metadata": {},
   "source": [
    "<h3>Matriz de Confusão</h3>"
   ]
  },
  {
   "cell_type": "code",
   "execution_count": 27,
   "metadata": {},
   "outputs": [
    {
     "data": {
      "text/html": [
       "<div>\n",
       "<style scoped>\n",
       "    .dataframe tbody tr th:only-of-type {\n",
       "        vertical-align: middle;\n",
       "    }\n",
       "\n",
       "    .dataframe tbody tr th {\n",
       "        vertical-align: top;\n",
       "    }\n",
       "\n",
       "    .dataframe thead th {\n",
       "        text-align: right;\n",
       "    }\n",
       "</style>\n",
       "<table border=\"1\" class=\"dataframe\">\n",
       "  <thead>\n",
       "    <tr style=\"text-align: right;\">\n",
       "      <th>Predito</th>\n",
       "      <th>0</th>\n",
       "      <th>1</th>\n",
       "      <th>All</th>\n",
       "    </tr>\n",
       "    <tr>\n",
       "      <th>Real</th>\n",
       "      <th></th>\n",
       "      <th></th>\n",
       "      <th></th>\n",
       "    </tr>\n",
       "  </thead>\n",
       "  <tbody>\n",
       "    <tr>\n",
       "      <th>0</th>\n",
       "      <td>4516</td>\n",
       "      <td>1499</td>\n",
       "      <td>6015</td>\n",
       "    </tr>\n",
       "    <tr>\n",
       "      <th>1</th>\n",
       "      <td>1202</td>\n",
       "      <td>4842</td>\n",
       "      <td>6044</td>\n",
       "    </tr>\n",
       "    <tr>\n",
       "      <th>All</th>\n",
       "      <td>5718</td>\n",
       "      <td>6341</td>\n",
       "      <td>12059</td>\n",
       "    </tr>\n",
       "  </tbody>\n",
       "</table>\n",
       "</div>"
      ],
      "text/plain": [
       "Predito     0     1    All\n",
       "Real                      \n",
       "0        4516  1499   6015\n",
       "1        1202  4842   6044\n",
       "All      5718  6341  12059"
      ]
     },
     "execution_count": 27,
     "metadata": {},
     "output_type": "execute_result"
    }
   ],
   "source": [
    "pd.crosstab(y_test_under,y_pred_under,rownames=['Real'],colnames=['Predito'],margins=True)"
   ]
  },
  {
   "cell_type": "code",
   "execution_count": 29,
   "metadata": {},
   "outputs": [
    {
     "data": {
      "text/plain": [
       "array([[5718,    0],\n",
       "       [   0, 6341]], dtype=int64)"
      ]
     },
     "execution_count": 29,
     "metadata": {},
     "output_type": "execute_result"
    }
   ],
   "source": [
    "#O Método confusion_matrix retorna a matriz de confusão\n",
    "from sklearn.metrics import confusion_matrix \n",
    "#Verdadeiro Positivo,Falso Positivo, Falso Negativo e Verdadeiro Negativo\n",
    "confusion_matrix(y_pred_under,y_pred_under)\n"
   ]
  },
  {
   "cell_type": "markdown",
   "metadata": {},
   "source": [
    "<h3>Visualização da matriz</h3>"
   ]
  },
  {
   "cell_type": "code",
   "execution_count": 35,
   "metadata": {},
   "outputs": [
    {
     "name": "stdout",
     "output_type": "stream",
     "text": [
      "Confusion matrix:\n",
      " [[5718    0]\n",
      " [   0 6341]]\n"
     ]
    },
    {
     "data": {
      "image/png": "[encoded data removed]",
      "text/plain": [
       "<Figure size 432x288 with 2 Axes>"
      ]
     },
     "metadata": {
      "needs_background": "light"
     },
     "output_type": "display_data"
    }
   ],
   "source": [
    "conf_mat = confusion_matrix(y_true=y_pred_under, y_pred=y_pred_under)\n",
    "print('Confusion matrix:\\n', conf_mat)\n",
    "\n",
    "labels = ['Class 0', 'Class 1']\n",
    "fig = plt.figure()\n",
    "ax = fig.add_subplot(111)\n",
    "cax = ax.matshow(conf_mat, cmap=plt.cm.Blues)\n",
    "fig.colorbar(cax)\n",
    "ax.set_xticklabels([''] + labels)\n",
    "ax.set_yticklabels([''] + labels)\n",
    "plt.xlabel('Predicted')\n",
    "plt.ylabel('Expected')\n",
    "plt.show()"
   ]
  },
  {
   "cell_type": "markdown",
   "metadata": {},
   "source": [
    "<h3>Ordem de importância dos dados analizados no modelo</h3>"
   ]
  },
  {
   "cell_type": "code",
   "execution_count": 58,
   "metadata": {},
   "outputs": [
    {
     "name": "stdout",
     "output_type": "stream",
     "text": [
      "var_81: 1.652086%\n",
      "var_12: 1.342047%\n",
      "var_139: 1.274734%\n",
      "var_26: 1.023797%\n",
      "var_110: 1.015978%\n",
      "var_146: 0.948139%\n",
      "var_174: 0.935147%\n",
      "var_53: 0.909447%\n",
      "var_22: 0.892811%\n",
      "var_6: 0.882190%\n",
      "var_148: 0.867834%\n",
      "var_21: 0.838621%\n",
      "var_2: 0.836774%\n",
      "var_99: 0.832920%\n",
      "var_133: 0.827101%\n",
      "var_80: 0.825509%\n",
      "var_166: 0.760369%\n",
      "var_34: 0.752222%\n",
      "var_165: 0.750412%\n",
      "var_109: 0.738958%\n",
      "var_76: 0.734362%\n",
      "var_198: 0.733487%\n",
      "var_13: 0.718877%\n",
      "var_0: 0.716102%\n",
      "var_44: 0.691864%\n",
      "var_191: 0.681085%\n",
      "var_164: 0.678837%\n",
      "var_190: 0.677404%\n",
      "var_40: 0.658660%\n",
      "var_154: 0.652182%\n",
      "var_170: 0.648441%\n",
      "var_179: 0.645767%\n",
      "var_78: 0.642148%\n",
      "var_115: 0.635369%\n",
      "var_92: 0.631724%\n",
      "var_33: 0.626347%\n",
      "var_149: 0.626306%\n",
      "var_123: 0.598612%\n",
      "var_1: 0.596817%\n",
      "var_169: 0.577769%\n",
      "var_177: 0.571929%\n",
      "var_108: 0.568922%\n",
      "var_9: 0.563131%\n",
      "var_94: 0.562608%\n",
      "var_91: 0.556454%\n",
      "var_18: 0.546912%\n",
      "var_172: 0.539708%\n",
      "var_75: 0.536119%\n",
      "var_184: 0.535982%\n",
      "var_122: 0.535564%\n",
      "var_67: 0.532323%\n",
      "var_192: 0.526547%\n",
      "var_173: 0.525015%\n",
      "var_121: 0.524075%\n",
      "var_5: 0.516942%\n",
      "var_118: 0.516170%\n",
      "var_36: 0.515803%\n",
      "var_107: 0.511754%\n",
      "var_147: 0.507457%\n",
      "var_155: 0.497541%\n",
      "var_93: 0.493666%\n",
      "var_157: 0.482216%\n",
      "var_163: 0.477979%\n",
      "var_95: 0.474387%\n",
      "var_35: 0.473286%\n",
      "var_119: 0.473208%\n",
      "var_86: 0.472834%\n",
      "var_127: 0.471837%\n",
      "var_89: 0.468728%\n",
      "var_49: 0.468523%\n",
      "var_87: 0.466230%\n",
      "var_56: 0.463449%\n",
      "var_106: 0.462007%\n",
      "var_167: 0.461292%\n",
      "var_188: 0.460046%\n",
      "var_195: 0.459423%\n",
      "var_162: 0.457904%\n",
      "var_150: 0.457649%\n",
      "var_48: 0.457314%\n",
      "var_180: 0.451311%\n",
      "var_141: 0.449664%\n",
      "var_52: 0.449223%\n",
      "var_130: 0.444885%\n",
      "var_137: 0.442864%\n",
      "var_145: 0.442678%\n",
      "var_197: 0.441759%\n",
      "var_112: 0.441653%\n",
      "var_32: 0.441358%\n",
      "var_28: 0.438078%\n",
      "var_125: 0.437710%\n",
      "var_71: 0.435701%\n",
      "var_90: 0.434713%\n",
      "var_151: 0.434447%\n",
      "var_186: 0.432220%\n",
      "var_43: 0.432168%\n",
      "var_24: 0.430449%\n",
      "var_131: 0.430022%\n",
      "var_132: 0.427607%\n",
      "var_85: 0.426315%\n",
      "var_114: 0.426004%\n",
      "var_105: 0.425814%\n",
      "var_196: 0.423736%\n",
      "var_51: 0.423623%\n",
      "var_128: 0.421531%\n",
      "var_31: 0.421289%\n",
      "var_70: 0.419161%\n",
      "var_142: 0.418556%\n",
      "var_135: 0.416713%\n",
      "var_175: 0.416407%\n",
      "var_58: 0.414611%\n",
      "var_82: 0.414045%\n",
      "var_116: 0.413808%\n",
      "var_104: 0.413710%\n",
      "var_66: 0.413592%\n",
      "var_199: 0.413045%\n",
      "var_111: 0.413022%\n",
      "var_88: 0.412955%\n",
      "var_168: 0.412269%\n",
      "var_156: 0.411076%\n",
      "var_23: 0.410798%\n",
      "var_102: 0.408317%\n",
      "var_144: 0.406121%\n",
      "var_187: 0.405934%\n",
      "var_11: 0.404669%\n",
      "var_134: 0.404034%\n",
      "var_138: 0.403512%\n",
      "var_194: 0.402405%\n",
      "var_20: 0.401584%\n",
      "var_45: 0.400235%\n",
      "var_77: 0.399537%\n",
      "var_178: 0.398766%\n",
      "var_193: 0.398468%\n",
      "var_8: 0.395241%\n",
      "var_171: 0.395052%\n",
      "var_97: 0.395040%\n",
      "var_54: 0.394186%\n",
      "var_15: 0.393293%\n",
      "var_124: 0.393261%\n",
      "var_59: 0.392339%\n",
      "var_83: 0.392089%\n",
      "var_63: 0.391582%\n",
      "var_74: 0.390017%\n",
      "var_152: 0.389618%\n",
      "var_143: 0.389206%\n",
      "var_62: 0.388897%\n",
      "var_69: 0.387791%\n",
      "var_57: 0.387658%\n",
      "var_64: 0.387594%\n",
      "var_113: 0.386971%\n",
      "var_25: 0.386911%\n",
      "var_61: 0.386785%\n",
      "var_79: 0.386290%\n",
      "var_181: 0.386208%\n",
      "var_153: 0.385862%\n",
      "var_140: 0.385433%\n",
      "var_182: 0.384955%\n",
      "var_27: 0.384752%\n",
      "var_4: 0.384656%\n",
      "var_46: 0.384000%\n",
      "var_158: 0.383988%\n",
      "var_60: 0.383683%\n",
      "var_65: 0.383585%\n",
      "var_50: 0.383530%\n",
      "var_103: 0.383294%\n",
      "var_37: 0.382890%\n",
      "var_39: 0.382866%\n",
      "var_129: 0.382716%\n",
      "var_159: 0.382637%\n",
      "var_55: 0.382276%\n",
      "var_3: 0.382248%\n",
      "var_84: 0.382068%\n",
      "var_101: 0.381618%\n",
      "var_19: 0.380727%\n",
      "var_183: 0.379874%\n",
      "var_160: 0.379475%\n",
      "var_29: 0.379459%\n",
      "var_16: 0.378822%\n",
      "var_126: 0.378191%\n",
      "var_10: 0.377796%\n",
      "var_185: 0.377288%\n",
      "var_17: 0.377113%\n",
      "var_7: 0.376822%\n",
      "var_98: 0.376466%\n",
      "var_42: 0.375175%\n",
      "var_30: 0.374736%\n",
      "var_189: 0.374722%\n",
      "var_100: 0.374383%\n",
      "var_161: 0.374328%\n",
      "var_117: 0.373779%\n",
      "var_41: 0.373642%\n",
      "var_73: 0.373364%\n",
      "var_136: 0.372677%\n",
      "var_14: 0.372531%\n",
      "var_68: 0.372359%\n",
      "var_38: 0.372201%\n",
      "var_96: 0.370354%\n",
      "var_47: 0.369703%\n",
      "var_176: 0.369684%\n",
      "var_120: 0.367449%\n",
      "var_72: 0.367433%\n"
     ]
    }
   ],
   "source": [
    "#Mede a importância de cada feature\n",
    "features = X_train_under\n",
    "features_importance = zip(clf_under.feature_importances_, features)\n",
    "for importance, feature in sorted(features_importance, reverse=True):\n",
    "    print(\"%s: %f%%\" % (feature, importance*100))"
   ]
  }
 ],
 "metadata": {
  "colab": {
   "name": "Untitled.ipynb",
   "provenance": [],
   "version": "0.3.2"
  },
  "kernelspec": {
   "display_name": "Python 3",
   "language": "python",
   "name": "python3"
  },
  "language_info": {
   "codemirror_mode": {
    "name": "ipython",
    "version": 3
   },
   "file_extension": ".py",
   "mimetype": "text/x-python",
   "name": "python",
   "nbconvert_exporter": "python",
   "pygments_lexer": "ipython3",
   "version": "3.7.1"
  }
 },
 "nbformat": 4,
 "nbformat_minor": 1
}
